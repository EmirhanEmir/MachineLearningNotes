{
 "cells": [
  {
   "cell_type": "code",
   "execution_count": 2,
   "id": "222155de",
   "metadata": {},
   "outputs": [],
   "source": [
    "import numpy as np"
   ]
  },
  {
   "cell_type": "code",
   "execution_count": 3,
   "id": "23fdcbd1",
   "metadata": {},
   "outputs": [],
   "source": [
    "my_list = [10,20,30,40]"
   ]
  },
  {
   "cell_type": "code",
   "execution_count": 5,
   "id": "6c5141de",
   "metadata": {},
   "outputs": [],
   "source": [
    "my_numpy_array = np.array(my_list)"
   ]
  },
  {
   "cell_type": "code",
   "execution_count": 6,
   "id": "9c231db7",
   "metadata": {},
   "outputs": [
    {
     "data": {
      "text/plain": [
       "numpy.ndarray"
      ]
     },
     "execution_count": 6,
     "metadata": {},
     "output_type": "execute_result"
    }
   ],
   "source": [
    "type(my_numpy_array)"
   ]
  },
  {
   "cell_type": "code",
   "execution_count": 14,
   "id": "5fc69bb6",
   "metadata": {},
   "outputs": [
    {
     "data": {
      "text/plain": [
       "np.int64(40)"
      ]
     },
     "execution_count": 14,
     "metadata": {},
     "output_type": "execute_result"
    }
   ],
   "source": [
    "my_numpy_array.max()"
   ]
  },
  {
   "cell_type": "code",
   "execution_count": 21,
   "id": "458f1fc2",
   "metadata": {},
   "outputs": [
    {
     "data": {
      "text/plain": [
       "np.int64(10)"
      ]
     },
     "execution_count": 21,
     "metadata": {},
     "output_type": "execute_result"
    }
   ],
   "source": [
    "my_numpy_array.min()"
   ]
  },
  {
   "cell_type": "code",
   "execution_count": 22,
   "id": "7a2cfb74",
   "metadata": {},
   "outputs": [
    {
     "data": {
      "text/plain": [
       "np.int64(100)"
      ]
     },
     "execution_count": 22,
     "metadata": {},
     "output_type": "execute_result"
    }
   ],
   "source": [
    "my_numpy_array.sum()"
   ]
  },
  {
   "cell_type": "code",
   "execution_count": 15,
   "id": "413863fb",
   "metadata": {},
   "outputs": [],
   "source": [
    "# array arithmetic"
   ]
  },
  {
   "cell_type": "code",
   "execution_count": 16,
   "id": "f42bfc5f",
   "metadata": {},
   "outputs": [],
   "source": [
    "my_numpy_array1 = np.array([1,2])\n",
    "my_numpy_array2 = np.array([2,3])"
   ]
  },
  {
   "cell_type": "code",
   "execution_count": 17,
   "id": "d42c1374",
   "metadata": {},
   "outputs": [
    {
     "data": {
      "text/plain": [
       "array([3, 5])"
      ]
     },
     "execution_count": 17,
     "metadata": {},
     "output_type": "execute_result"
    }
   ],
   "source": [
    "my_numpy_array1 + my_numpy_array2"
   ]
  },
  {
   "cell_type": "code",
   "execution_count": 18,
   "id": "eaaf0e86",
   "metadata": {},
   "outputs": [
    {
     "data": {
      "text/plain": [
       "array([2, 6])"
      ]
     },
     "execution_count": 18,
     "metadata": {},
     "output_type": "execute_result"
    }
   ],
   "source": [
    "my_numpy_array1 * my_numpy_array2"
   ]
  },
  {
   "cell_type": "code",
   "execution_count": 19,
   "id": "6f0adfac",
   "metadata": {},
   "outputs": [
    {
     "data": {
      "text/plain": [
       "array([-1, -1])"
      ]
     },
     "execution_count": 19,
     "metadata": {},
     "output_type": "execute_result"
    }
   ],
   "source": [
    "my_numpy_array1 - my_numpy_array2"
   ]
  },
  {
   "cell_type": "code",
   "execution_count": 20,
   "id": "2fdb979e",
   "metadata": {},
   "outputs": [
    {
     "data": {
      "text/plain": [
       "array([0.5       , 0.66666667])"
      ]
     },
     "execution_count": 20,
     "metadata": {},
     "output_type": "execute_result"
    }
   ],
   "source": [
    "my_numpy_array1 / my_numpy_array2"
   ]
  },
  {
   "cell_type": "code",
   "execution_count": 23,
   "id": "c18280c9",
   "metadata": {},
   "outputs": [],
   "source": [
    "# arrange & indexing"
   ]
  },
  {
   "cell_type": "code",
   "execution_count": 24,
   "id": "23b9ad95",
   "metadata": {},
   "outputs": [
    {
     "data": {
      "text/plain": [
       "array([0, 1, 2, 3, 4, 5, 6, 7, 8, 9])"
      ]
     },
     "execution_count": 24,
     "metadata": {},
     "output_type": "execute_result"
    }
   ],
   "source": [
    "np.arange(0,10)"
   ]
  },
  {
   "cell_type": "code",
   "execution_count": 25,
   "id": "76488c60",
   "metadata": {},
   "outputs": [],
   "source": [
    "np_array = np.arange(0,10)"
   ]
  },
  {
   "cell_type": "code",
   "execution_count": 26,
   "id": "a8a717a7",
   "metadata": {},
   "outputs": [
    {
     "data": {
      "text/plain": [
       "array([1, 2, 3])"
      ]
     },
     "execution_count": 26,
     "metadata": {},
     "output_type": "execute_result"
    }
   ],
   "source": [
    "np_array[1:4:]"
   ]
  },
  {
   "cell_type": "code",
   "execution_count": 27,
   "id": "7f31548a",
   "metadata": {},
   "outputs": [
    {
     "data": {
      "text/plain": [
       "array([9, 8, 7, 6, 5, 4, 3, 2, 1, 0])"
      ]
     },
     "execution_count": 27,
     "metadata": {},
     "output_type": "execute_result"
    }
   ],
   "source": [
    "np_array[::-1]"
   ]
  },
  {
   "cell_type": "code",
   "execution_count": 28,
   "id": "1b383d16",
   "metadata": {},
   "outputs": [
    {
     "data": {
      "text/plain": [
       "array([2, 4])"
      ]
     },
     "execution_count": 28,
     "metadata": {},
     "output_type": "execute_result"
    }
   ],
   "source": [
    "np_array[2:6:2]"
   ]
  },
  {
   "cell_type": "code",
   "execution_count": 29,
   "id": "7bddfd5f",
   "metadata": {},
   "outputs": [],
   "source": [
    "# random"
   ]
  },
  {
   "cell_type": "code",
   "execution_count": 32,
   "id": "0dd839e7",
   "metadata": {},
   "outputs": [
    {
     "data": {
      "text/plain": [
       "array([[ 1.21636975,  1.20556467,  1.72009179,  0.90827423],\n",
       "       [ 3.33108881, -0.88043182,  0.06653313,  0.8940507 ],\n",
       "       [ 0.26908431, -0.66547212,  0.22422075, -0.38172099],\n",
       "       [-1.07936527,  0.39785709, -1.57698254,  0.25985719]])"
      ]
     },
     "execution_count": 32,
     "metadata": {},
     "output_type": "execute_result"
    }
   ],
   "source": [
    "np.random.randn(4,4)"
   ]
  },
  {
   "cell_type": "code",
   "execution_count": 33,
   "id": "3ab67712",
   "metadata": {},
   "outputs": [
    {
     "data": {
      "text/plain": [
       "array([ 47, 225, 155, 230,  30], dtype=int32)"
      ]
     },
     "execution_count": 33,
     "metadata": {},
     "output_type": "execute_result"
    }
   ],
   "source": [
    "np.random.randint(1,300,5)"
   ]
  },
  {
   "cell_type": "code",
   "execution_count": null,
   "id": "553bf27b",
   "metadata": {},
   "outputs": [],
   "source": []
  }
 ],
 "metadata": {
  "kernelspec": {
   "display_name": "base",
   "language": "python",
   "name": "python3"
  },
  "language_info": {
   "codemirror_mode": {
    "name": "ipython",
    "version": 3
   },
   "file_extension": ".py",
   "mimetype": "text/x-python",
   "name": "python",
   "nbconvert_exporter": "python",
   "pygments_lexer": "ipython3",
   "version": "3.13.5"
  }
 },
 "nbformat": 4,
 "nbformat_minor": 5
}
