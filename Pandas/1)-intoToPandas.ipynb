{
 "cells": [
  {
   "cell_type": "code",
   "execution_count": 1,
   "id": "f217ccda",
   "metadata": {},
   "outputs": [],
   "source": [
    "import numpy as np\n",
    "import pandas as pd"
   ]
  },
  {
   "cell_type": "code",
   "execution_count": 2,
   "id": "3083d15f",
   "metadata": {},
   "outputs": [],
   "source": [
    "grades = {\"Emir\":50, \"James\":60, \"Lars\":30}"
   ]
  },
  {
   "cell_type": "code",
   "execution_count": 3,
   "id": "e8d4a2e8",
   "metadata": {},
   "outputs": [
    {
     "data": {
      "text/plain": [
       "Emir     50\n",
       "James    60\n",
       "Lars     30\n",
       "dtype: int64"
      ]
     },
     "execution_count": 3,
     "metadata": {},
     "output_type": "execute_result"
    }
   ],
   "source": [
    "pd.Series(grades)"
   ]
  },
  {
   "cell_type": "code",
   "execution_count": 4,
   "id": "a5a8e972",
   "metadata": {},
   "outputs": [],
   "source": [
    "names = [\"Atil\", \"James\", \"Lars\"]\n",
    "grades = [50, 60, 30]"
   ]
  },
  {
   "cell_type": "code",
   "execution_count": 5,
   "id": "2931cbfd",
   "metadata": {},
   "outputs": [
    {
     "data": {
      "text/plain": [
       "0     Atil\n",
       "1    James\n",
       "2     Lars\n",
       "dtype: object"
      ]
     },
     "execution_count": 5,
     "metadata": {},
     "output_type": "execute_result"
    }
   ],
   "source": [
    "pd.Series(names)"
   ]
  },
  {
   "cell_type": "code",
   "execution_count": 6,
   "id": "55ac5c23",
   "metadata": {},
   "outputs": [
    {
     "data": {
      "text/plain": [
       "0    50\n",
       "1    60\n",
       "2    30\n",
       "dtype: int64"
      ]
     },
     "execution_count": 6,
     "metadata": {},
     "output_type": "execute_result"
    }
   ],
   "source": [
    "pd.Series(grades)"
   ]
  },
  {
   "cell_type": "code",
   "execution_count": 7,
   "id": "9cc6d402",
   "metadata": {},
   "outputs": [
    {
     "data": {
      "text/plain": [
       "Atil     50\n",
       "James    60\n",
       "Lars     30\n",
       "dtype: int64"
      ]
     },
     "execution_count": 7,
     "metadata": {},
     "output_type": "execute_result"
    }
   ],
   "source": [
    "pd.Series(grades, names)"
   ]
  },
  {
   "cell_type": "code",
   "execution_count": 9,
   "id": "9409c5f9",
   "metadata": {},
   "outputs": [
    {
     "data": {
      "text/plain": [
       "Atil     50\n",
       "James    60\n",
       "Lars     30\n",
       "dtype: int64"
      ]
     },
     "execution_count": 9,
     "metadata": {},
     "output_type": "execute_result"
    }
   ],
   "source": [
    "pd.Series(data=grades, index=names)"
   ]
  },
  {
   "cell_type": "code",
   "execution_count": 10,
   "id": "2e64b7fc",
   "metadata": {},
   "outputs": [],
   "source": [
    "# with numpy"
   ]
  },
  {
   "cell_type": "code",
   "execution_count": 11,
   "id": "c1c21579",
   "metadata": {},
   "outputs": [
    {
     "data": {
      "text/plain": [
       "array([50, 40, 30, 20])"
      ]
     },
     "execution_count": 11,
     "metadata": {},
     "output_type": "execute_result"
    }
   ],
   "source": [
    "numpy_array = np.array([50, 40, 30, 20])\n",
    "numpy_array"
   ]
  },
  {
   "cell_type": "code",
   "execution_count": 12,
   "id": "7008a330",
   "metadata": {},
   "outputs": [
    {
     "data": {
      "text/plain": [
       "0    50\n",
       "1    40\n",
       "2    30\n",
       "3    20\n",
       "dtype: int64"
      ]
     },
     "execution_count": 12,
     "metadata": {},
     "output_type": "execute_result"
    }
   ],
   "source": [
    "pd.Series(numpy_array)"
   ]
  },
  {
   "cell_type": "code",
   "execution_count": 18,
   "id": "b0120f88",
   "metadata": {},
   "outputs": [],
   "source": [
    "# arithmetic"
   ]
  },
  {
   "cell_type": "code",
   "execution_count": 21,
   "id": "67b47565",
   "metadata": {},
   "outputs": [],
   "source": [
    "contest_result1 = pd.Series(data=[10, 5, 100], index=[\"Atil\", \"Emir\", \"James\"])\n",
    "contest_result2 = pd.Series(data=[20, 50, 10], index=[\"Atil\", \"Emir\", \"James\"])"
   ]
  },
  {
   "cell_type": "code",
   "execution_count": 23,
   "id": "e37ce278",
   "metadata": {},
   "outputs": [
    {
     "data": {
      "text/plain": [
       "Atil      30\n",
       "Emir      55\n",
       "James    110\n",
       "dtype: int64"
      ]
     },
     "execution_count": 23,
     "metadata": {},
     "output_type": "execute_result"
    }
   ],
   "source": [
    "final_result1 = contest_result1 + contest_result2\n",
    "final_result1"
   ]
  },
  {
   "cell_type": "code",
   "execution_count": 24,
   "id": "6c2b6b88",
   "metadata": {},
   "outputs": [
    {
     "data": {
      "text/plain": [
       "Atil      200\n",
       "Emir      250\n",
       "James    1000\n",
       "dtype: int64"
      ]
     },
     "execution_count": 24,
     "metadata": {},
     "output_type": "execute_result"
    }
   ],
   "source": [
    "final_result2 = contest_result1 * contest_result2\n",
    "final_result2"
   ]
  },
  {
   "cell_type": "code",
   "execution_count": 25,
   "id": "a1c15f4b",
   "metadata": {},
   "outputs": [],
   "source": [
    "different_series1 = pd.Series([10, 5, 3, 1], [\"a\", \"c\", \"f\", \"g\"])\n",
    "different_series2 = pd.Series([20, 30, 40, 50], [\"a\", \"b\", \"c\", \"d\"])"
   ]
  },
  {
   "cell_type": "code",
   "execution_count": 26,
   "id": "dccaca7f",
   "metadata": {},
   "outputs": [
    {
     "data": {
      "text/plain": [
       "a    30.0\n",
       "b     NaN\n",
       "c    45.0\n",
       "d     NaN\n",
       "f     NaN\n",
       "g     NaN\n",
       "dtype: float64"
      ]
     },
     "execution_count": 26,
     "metadata": {},
     "output_type": "execute_result"
    }
   ],
   "source": [
    "different_series1 + different_series2"
   ]
  },
  {
   "cell_type": "code",
   "execution_count": null,
   "id": "168ba053",
   "metadata": {},
   "outputs": [],
   "source": []
  }
 ],
 "metadata": {
  "kernelspec": {
   "display_name": "base",
   "language": "python",
   "name": "python3"
  },
  "language_info": {
   "codemirror_mode": {
    "name": "ipython",
    "version": 3
   },
   "file_extension": ".py",
   "mimetype": "text/x-python",
   "name": "python",
   "nbconvert_exporter": "python",
   "pygments_lexer": "ipython3",
   "version": "3.13.5"
  }
 },
 "nbformat": 4,
 "nbformat_minor": 5
}
