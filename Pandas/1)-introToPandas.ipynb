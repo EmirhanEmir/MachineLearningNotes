{
 "cells": [
  {
   "cell_type": "code",
   "execution_count": 2,
   "id": "f217ccda",
   "metadata": {},
   "outputs": [],
   "source": [
    "import numpy as np\n",
    "import pandas as pd"
   ]
  },
  {
   "cell_type": "code",
   "execution_count": 3,
   "id": "3083d15f",
   "metadata": {},
   "outputs": [],
   "source": [
    "grades = {\"Emir\":50, \"James\":60, \"Lars\":30}"
   ]
  },
  {
   "cell_type": "code",
   "execution_count": 4,
   "id": "e8d4a2e8",
   "metadata": {},
   "outputs": [
    {
     "data": {
      "text/plain": [
       "Emir     50\n",
       "James    60\n",
       "Lars     30\n",
       "dtype: int64"
      ]
     },
     "execution_count": 4,
     "metadata": {},
     "output_type": "execute_result"
    }
   ],
   "source": [
    "pd.Series(grades)"
   ]
  },
  {
   "cell_type": "code",
   "execution_count": 5,
   "id": "a5a8e972",
   "metadata": {},
   "outputs": [],
   "source": [
    "names = [\"Atil\", \"James\", \"Lars\"]\n",
    "grades = [50, 60, 30]"
   ]
  },
  {
   "cell_type": "code",
   "execution_count": 6,
   "id": "2931cbfd",
   "metadata": {},
   "outputs": [
    {
     "data": {
      "text/plain": [
       "0     Atil\n",
       "1    James\n",
       "2     Lars\n",
       "dtype: object"
      ]
     },
     "execution_count": 6,
     "metadata": {},
     "output_type": "execute_result"
    }
   ],
   "source": [
    "pd.Series(names)"
   ]
  },
  {
   "cell_type": "code",
   "execution_count": 7,
   "id": "55ac5c23",
   "metadata": {},
   "outputs": [
    {
     "data": {
      "text/plain": [
       "0    50\n",
       "1    60\n",
       "2    30\n",
       "dtype: int64"
      ]
     },
     "execution_count": 7,
     "metadata": {},
     "output_type": "execute_result"
    }
   ],
   "source": [
    "pd.Series(grades)"
   ]
  },
  {
   "cell_type": "code",
   "execution_count": 8,
   "id": "9cc6d402",
   "metadata": {},
   "outputs": [
    {
     "data": {
      "text/plain": [
       "Atil     50\n",
       "James    60\n",
       "Lars     30\n",
       "dtype: int64"
      ]
     },
     "execution_count": 8,
     "metadata": {},
     "output_type": "execute_result"
    }
   ],
   "source": [
    "pd.Series(grades, names)"
   ]
  },
  {
   "cell_type": "code",
   "execution_count": 9,
   "id": "9409c5f9",
   "metadata": {},
   "outputs": [
    {
     "data": {
      "text/plain": [
       "Atil     50\n",
       "James    60\n",
       "Lars     30\n",
       "dtype: int64"
      ]
     },
     "execution_count": 9,
     "metadata": {},
     "output_type": "execute_result"
    }
   ],
   "source": [
    "pd.Series(data=grades, index=names)"
   ]
  },
  {
   "cell_type": "code",
   "execution_count": 10,
   "id": "2e64b7fc",
   "metadata": {},
   "outputs": [],
   "source": [
    "# with numpy"
   ]
  },
  {
   "cell_type": "code",
   "execution_count": 11,
   "id": "c1c21579",
   "metadata": {},
   "outputs": [
    {
     "data": {
      "text/plain": [
       "array([50, 40, 30, 20])"
      ]
     },
     "execution_count": 11,
     "metadata": {},
     "output_type": "execute_result"
    }
   ],
   "source": [
    "numpy_array = np.array([50, 40, 30, 20])\n",
    "numpy_array"
   ]
  },
  {
   "cell_type": "code",
   "execution_count": 12,
   "id": "7008a330",
   "metadata": {},
   "outputs": [
    {
     "data": {
      "text/plain": [
       "0    50\n",
       "1    40\n",
       "2    30\n",
       "3    20\n",
       "dtype: int64"
      ]
     },
     "execution_count": 12,
     "metadata": {},
     "output_type": "execute_result"
    }
   ],
   "source": [
    "pd.Series(numpy_array)"
   ]
  },
  {
   "cell_type": "code",
   "execution_count": 13,
   "id": "b0120f88",
   "metadata": {},
   "outputs": [],
   "source": [
    "# arithmetic"
   ]
  },
  {
   "cell_type": "code",
   "execution_count": 14,
   "id": "67b47565",
   "metadata": {},
   "outputs": [],
   "source": [
    "contest_result1 = pd.Series(data=[10, 5, 100], index=[\"Atil\", \"Emir\", \"James\"])\n",
    "contest_result2 = pd.Series(data=[20, 50, 10], index=[\"Atil\", \"Emir\", \"James\"])"
   ]
  },
  {
   "cell_type": "code",
   "execution_count": 15,
   "id": "e37ce278",
   "metadata": {},
   "outputs": [
    {
     "data": {
      "text/plain": [
       "Atil      30\n",
       "Emir      55\n",
       "James    110\n",
       "dtype: int64"
      ]
     },
     "execution_count": 15,
     "metadata": {},
     "output_type": "execute_result"
    }
   ],
   "source": [
    "final_result1 = contest_result1 + contest_result2\n",
    "final_result1"
   ]
  },
  {
   "cell_type": "code",
   "execution_count": 16,
   "id": "6c2b6b88",
   "metadata": {},
   "outputs": [
    {
     "data": {
      "text/plain": [
       "Atil      200\n",
       "Emir      250\n",
       "James    1000\n",
       "dtype: int64"
      ]
     },
     "execution_count": 16,
     "metadata": {},
     "output_type": "execute_result"
    }
   ],
   "source": [
    "final_result2 = contest_result1 * contest_result2\n",
    "final_result2"
   ]
  },
  {
   "cell_type": "code",
   "execution_count": 17,
   "id": "a1c15f4b",
   "metadata": {},
   "outputs": [],
   "source": [
    "different_series1 = pd.Series([10, 5, 3, 1], [\"a\", \"c\", \"f\", \"g\"])\n",
    "different_series2 = pd.Series([20, 30, 40, 50], [\"a\", \"b\", \"c\", \"d\"])"
   ]
  },
  {
   "cell_type": "code",
   "execution_count": 18,
   "id": "dccaca7f",
   "metadata": {},
   "outputs": [
    {
     "data": {
      "text/plain": [
       "a    30.0\n",
       "b     NaN\n",
       "c    45.0\n",
       "d     NaN\n",
       "f     NaN\n",
       "g     NaN\n",
       "dtype: float64"
      ]
     },
     "execution_count": 18,
     "metadata": {},
     "output_type": "execute_result"
    }
   ],
   "source": [
    "different_series1 + different_series2"
   ]
  },
  {
   "cell_type": "code",
   "execution_count": 20,
   "id": "5dfe67f1",
   "metadata": {},
   "outputs": [
    {
     "data": {
      "text/plain": [
       "array([[ 0.51428664, -0.25134775, -0.05093922],\n",
       "       [-0.12211016, -0.83073679,  0.28301769],\n",
       "       [ 0.90909244,  0.34972611,  0.41193243],\n",
       "       [ 0.73437181,  0.08460524,  1.25694074]])"
      ]
     },
     "execution_count": 20,
     "metadata": {},
     "output_type": "execute_result"
    }
   ],
   "source": [
    "data = np.random.randn(4,3)\n",
    "data"
   ]
  },
  {
   "cell_type": "code",
   "execution_count": 22,
   "id": "4f4968e7",
   "metadata": {},
   "outputs": [
    {
     "data": {
      "text/html": [
       "<div>\n",
       "<style scoped>\n",
       "    .dataframe tbody tr th:only-of-type {\n",
       "        vertical-align: middle;\n",
       "    }\n",
       "\n",
       "    .dataframe tbody tr th {\n",
       "        vertical-align: top;\n",
       "    }\n",
       "\n",
       "    .dataframe thead th {\n",
       "        text-align: right;\n",
       "    }\n",
       "</style>\n",
       "<table border=\"1\" class=\"dataframe\">\n",
       "  <thead>\n",
       "    <tr style=\"text-align: right;\">\n",
       "      <th></th>\n",
       "      <th>0</th>\n",
       "      <th>1</th>\n",
       "      <th>2</th>\n",
       "    </tr>\n",
       "  </thead>\n",
       "  <tbody>\n",
       "    <tr>\n",
       "      <th>0</th>\n",
       "      <td>0.514287</td>\n",
       "      <td>-0.251348</td>\n",
       "      <td>-0.050939</td>\n",
       "    </tr>\n",
       "    <tr>\n",
       "      <th>1</th>\n",
       "      <td>-0.122110</td>\n",
       "      <td>-0.830737</td>\n",
       "      <td>0.283018</td>\n",
       "    </tr>\n",
       "    <tr>\n",
       "      <th>2</th>\n",
       "      <td>0.909092</td>\n",
       "      <td>0.349726</td>\n",
       "      <td>0.411932</td>\n",
       "    </tr>\n",
       "    <tr>\n",
       "      <th>3</th>\n",
       "      <td>0.734372</td>\n",
       "      <td>0.084605</td>\n",
       "      <td>1.256941</td>\n",
       "    </tr>\n",
       "  </tbody>\n",
       "</table>\n",
       "</div>"
      ],
      "text/plain": [
       "          0         1         2\n",
       "0  0.514287 -0.251348 -0.050939\n",
       "1 -0.122110 -0.830737  0.283018\n",
       "2  0.909092  0.349726  0.411932\n",
       "3  0.734372  0.084605  1.256941"
      ]
     },
     "execution_count": 22,
     "metadata": {},
     "output_type": "execute_result"
    }
   ],
   "source": [
    "data_frame = pd.DataFrame(data) \n",
    "data_frame"
   ]
  },
  {
   "cell_type": "code",
   "execution_count": 23,
   "id": "7fe4efa2",
   "metadata": {},
   "outputs": [
    {
     "name": "stdout",
     "output_type": "stream",
     "text": [
      "<class 'pandas.core.frame.DataFrame'>\n",
      "<class 'pandas.core.series.Series'>\n"
     ]
    }
   ],
   "source": [
    "print(type(data_frame))\n",
    "print(type(data_frame[0]))"
   ]
  },
  {
   "cell_type": "code",
   "execution_count": 24,
   "id": "859c54ad",
   "metadata": {},
   "outputs": [
    {
     "data": {
      "text/html": [
       "<div>\n",
       "<style scoped>\n",
       "    .dataframe tbody tr th:only-of-type {\n",
       "        vertical-align: middle;\n",
       "    }\n",
       "\n",
       "    .dataframe tbody tr th {\n",
       "        vertical-align: top;\n",
       "    }\n",
       "\n",
       "    .dataframe thead th {\n",
       "        text-align: right;\n",
       "    }\n",
       "</style>\n",
       "<table border=\"1\" class=\"dataframe\">\n",
       "  <thead>\n",
       "    <tr style=\"text-align: right;\">\n",
       "      <th></th>\n",
       "      <th>Salary</th>\n",
       "      <th>Age</th>\n",
       "      <th>Seniorty</th>\n",
       "    </tr>\n",
       "  </thead>\n",
       "  <tbody>\n",
       "    <tr>\n",
       "      <th>Atil</th>\n",
       "      <td>0.514287</td>\n",
       "      <td>-0.251348</td>\n",
       "      <td>-0.050939</td>\n",
       "    </tr>\n",
       "    <tr>\n",
       "      <th>Zeynep</th>\n",
       "      <td>-0.122110</td>\n",
       "      <td>-0.830737</td>\n",
       "      <td>0.283018</td>\n",
       "    </tr>\n",
       "    <tr>\n",
       "      <th>Atlas</th>\n",
       "      <td>0.909092</td>\n",
       "      <td>0.349726</td>\n",
       "      <td>0.411932</td>\n",
       "    </tr>\n",
       "    <tr>\n",
       "      <th>Mehmet</th>\n",
       "      <td>0.734372</td>\n",
       "      <td>0.084605</td>\n",
       "      <td>1.256941</td>\n",
       "    </tr>\n",
       "  </tbody>\n",
       "</table>\n",
       "</div>"
      ],
      "text/plain": [
       "          Salary       Age  Seniorty\n",
       "Atil    0.514287 -0.251348 -0.050939\n",
       "Zeynep -0.122110 -0.830737  0.283018\n",
       "Atlas   0.909092  0.349726  0.411932\n",
       "Mehmet  0.734372  0.084605  1.256941"
      ]
     },
     "execution_count": 24,
     "metadata": {},
     "output_type": "execute_result"
    }
   ],
   "source": [
    "new_df = pd.DataFrame(data, index=[\"Atil\", \"Zeynep\", \"Atlas\", \"Mehmet\"], columns=[\"Salary\", \"Age\", \"Seniorty\"])\n",
    "new_df"
   ]
  },
  {
   "cell_type": "code",
   "execution_count": 25,
   "id": "5e78161c",
   "metadata": {},
   "outputs": [
    {
     "data": {
      "text/plain": [
       "Atil     -0.251348\n",
       "Zeynep   -0.830737\n",
       "Atlas     0.349726\n",
       "Mehmet    0.084605\n",
       "Name: Age, dtype: float64"
      ]
     },
     "execution_count": 25,
     "metadata": {},
     "output_type": "execute_result"
    }
   ],
   "source": [
    "new_df[\"Age\"]"
   ]
  },
  {
   "cell_type": "code",
   "execution_count": 28,
   "id": "7c96aec9",
   "metadata": {},
   "outputs": [
    {
     "data": {
      "text/html": [
       "<div>\n",
       "<style scoped>\n",
       "    .dataframe tbody tr th:only-of-type {\n",
       "        vertical-align: middle;\n",
       "    }\n",
       "\n",
       "    .dataframe tbody tr th {\n",
       "        vertical-align: top;\n",
       "    }\n",
       "\n",
       "    .dataframe thead th {\n",
       "        text-align: right;\n",
       "    }\n",
       "</style>\n",
       "<table border=\"1\" class=\"dataframe\">\n",
       "  <thead>\n",
       "    <tr style=\"text-align: right;\">\n",
       "      <th></th>\n",
       "      <th>Age</th>\n",
       "      <th>Salary</th>\n",
       "    </tr>\n",
       "  </thead>\n",
       "  <tbody>\n",
       "    <tr>\n",
       "      <th>Atil</th>\n",
       "      <td>-0.251348</td>\n",
       "      <td>0.514287</td>\n",
       "    </tr>\n",
       "    <tr>\n",
       "      <th>Zeynep</th>\n",
       "      <td>-0.830737</td>\n",
       "      <td>-0.122110</td>\n",
       "    </tr>\n",
       "    <tr>\n",
       "      <th>Atlas</th>\n",
       "      <td>0.349726</td>\n",
       "      <td>0.909092</td>\n",
       "    </tr>\n",
       "    <tr>\n",
       "      <th>Mehmet</th>\n",
       "      <td>0.084605</td>\n",
       "      <td>0.734372</td>\n",
       "    </tr>\n",
       "  </tbody>\n",
       "</table>\n",
       "</div>"
      ],
      "text/plain": [
       "             Age    Salary\n",
       "Atil   -0.251348  0.514287\n",
       "Zeynep -0.830737 -0.122110\n",
       "Atlas   0.349726  0.909092\n",
       "Mehmet  0.084605  0.734372"
      ]
     },
     "execution_count": 28,
     "metadata": {},
     "output_type": "execute_result"
    }
   ],
   "source": [
    "new_df[[\"Age\", \"Salary\"]]"
   ]
  },
  {
   "cell_type": "code",
   "execution_count": 30,
   "id": "261b1330",
   "metadata": {},
   "outputs": [
    {
     "data": {
      "text/plain": [
       "Salary      0.909092\n",
       "Age         0.349726\n",
       "Seniorty    0.411932\n",
       "Name: Atlas, dtype: float64"
      ]
     },
     "execution_count": 30,
     "metadata": {},
     "output_type": "execute_result"
    }
   ],
   "source": [
    "new_df.loc[\"Atlas\"]"
   ]
  },
  {
   "cell_type": "code",
   "execution_count": 32,
   "id": "a6c2ce65",
   "metadata": {},
   "outputs": [
    {
     "data": {
      "text/plain": [
       "Salary     -0.122110\n",
       "Age        -0.830737\n",
       "Seniorty    0.283018\n",
       "Name: Zeynep, dtype: float64"
      ]
     },
     "execution_count": 32,
     "metadata": {},
     "output_type": "execute_result"
    }
   ],
   "source": [
    "new_df.iloc[1]"
   ]
  },
  {
   "cell_type": "code",
   "execution_count": 33,
   "id": "091dbaba",
   "metadata": {},
   "outputs": [
    {
     "data": {
      "text/plain": [
       "np.float64(-0.8307367944009857)"
      ]
     },
     "execution_count": 33,
     "metadata": {},
     "output_type": "execute_result"
    }
   ],
   "source": [
    "new_df.iloc[1][\"Age\"]"
   ]
  },
  {
   "cell_type": "code",
   "execution_count": 36,
   "id": "13b83bae",
   "metadata": {},
   "outputs": [
    {
     "data": {
      "text/plain": [
       "Atil     -0.050939\n",
       "Zeynep    0.283018\n",
       "Atlas     0.411932\n",
       "Mehmet    1.256941\n",
       "Name: Seniorty, dtype: float64"
      ]
     },
     "execution_count": 36,
     "metadata": {},
     "output_type": "execute_result"
    }
   ],
   "source": [
    "new_df.iloc[:,-1]"
   ]
  },
  {
   "cell_type": "code",
   "execution_count": 38,
   "id": "b0a40331",
   "metadata": {},
   "outputs": [
    {
     "data": {
      "text/html": [
       "<div>\n",
       "<style scoped>\n",
       "    .dataframe tbody tr th:only-of-type {\n",
       "        vertical-align: middle;\n",
       "    }\n",
       "\n",
       "    .dataframe tbody tr th {\n",
       "        vertical-align: top;\n",
       "    }\n",
       "\n",
       "    .dataframe thead th {\n",
       "        text-align: right;\n",
       "    }\n",
       "</style>\n",
       "<table border=\"1\" class=\"dataframe\">\n",
       "  <thead>\n",
       "    <tr style=\"text-align: right;\">\n",
       "      <th></th>\n",
       "      <th>Salary</th>\n",
       "      <th>Age</th>\n",
       "      <th>Seniorty</th>\n",
       "      <th>Extra</th>\n",
       "    </tr>\n",
       "  </thead>\n",
       "  <tbody>\n",
       "    <tr>\n",
       "      <th>Atil</th>\n",
       "      <td>0.514287</td>\n",
       "      <td>-0.251348</td>\n",
       "      <td>-0.050939</td>\n",
       "      <td>10</td>\n",
       "    </tr>\n",
       "    <tr>\n",
       "      <th>Zeynep</th>\n",
       "      <td>-0.122110</td>\n",
       "      <td>-0.830737</td>\n",
       "      <td>0.283018</td>\n",
       "      <td>10</td>\n",
       "    </tr>\n",
       "    <tr>\n",
       "      <th>Atlas</th>\n",
       "      <td>0.909092</td>\n",
       "      <td>0.349726</td>\n",
       "      <td>0.411932</td>\n",
       "      <td>10</td>\n",
       "    </tr>\n",
       "    <tr>\n",
       "      <th>Mehmet</th>\n",
       "      <td>0.734372</td>\n",
       "      <td>0.084605</td>\n",
       "      <td>1.256941</td>\n",
       "      <td>10</td>\n",
       "    </tr>\n",
       "  </tbody>\n",
       "</table>\n",
       "</div>"
      ],
      "text/plain": [
       "          Salary       Age  Seniorty  Extra\n",
       "Atil    0.514287 -0.251348 -0.050939     10\n",
       "Zeynep -0.122110 -0.830737  0.283018     10\n",
       "Atlas   0.909092  0.349726  0.411932     10\n",
       "Mehmet  0.734372  0.084605  1.256941     10"
      ]
     },
     "execution_count": 38,
     "metadata": {},
     "output_type": "execute_result"
    }
   ],
   "source": [
    "new_df[\"Extra\"] = 10\n",
    "new_df"
   ]
  },
  {
   "cell_type": "code",
   "execution_count": null,
   "id": "40a1399d",
   "metadata": {},
   "outputs": [
    {
     "data": {
      "text/html": [
       "<div>\n",
       "<style scoped>\n",
       "    .dataframe tbody tr th:only-of-type {\n",
       "        vertical-align: middle;\n",
       "    }\n",
       "\n",
       "    .dataframe tbody tr th {\n",
       "        vertical-align: top;\n",
       "    }\n",
       "\n",
       "    .dataframe thead th {\n",
       "        text-align: right;\n",
       "    }\n",
       "</style>\n",
       "<table border=\"1\" class=\"dataframe\">\n",
       "  <thead>\n",
       "    <tr style=\"text-align: right;\">\n",
       "      <th></th>\n",
       "      <th>Salary</th>\n",
       "      <th>Age</th>\n",
       "      <th>Seniorty</th>\n",
       "    </tr>\n",
       "  </thead>\n",
       "  <tbody>\n",
       "    <tr>\n",
       "      <th>Atil</th>\n",
       "      <td>0.514287</td>\n",
       "      <td>-0.251348</td>\n",
       "      <td>-0.050939</td>\n",
       "    </tr>\n",
       "    <tr>\n",
       "      <th>Zeynep</th>\n",
       "      <td>-0.122110</td>\n",
       "      <td>-0.830737</td>\n",
       "      <td>0.283018</td>\n",
       "    </tr>\n",
       "    <tr>\n",
       "      <th>Atlas</th>\n",
       "      <td>0.909092</td>\n",
       "      <td>0.349726</td>\n",
       "      <td>0.411932</td>\n",
       "    </tr>\n",
       "    <tr>\n",
       "      <th>Mehmet</th>\n",
       "      <td>0.734372</td>\n",
       "      <td>0.084605</td>\n",
       "      <td>1.256941</td>\n",
       "    </tr>\n",
       "  </tbody>\n",
       "</table>\n",
       "</div>"
      ],
      "text/plain": [
       "          Salary       Age  Seniorty\n",
       "Atil    0.514287 -0.251348 -0.050939\n",
       "Zeynep -0.122110 -0.830737  0.283018\n",
       "Atlas   0.909092  0.349726  0.411932\n",
       "Mehmet  0.734372  0.084605  1.256941"
      ]
     },
     "execution_count": 39,
     "metadata": {},
     "output_type": "execute_result"
    }
   ],
   "source": [
    "new_df.drop(\"Extra\", axis=1)"
   ]
  },
  {
   "cell_type": "code",
   "execution_count": 40,
   "id": "67d9c78a",
   "metadata": {},
   "outputs": [
    {
     "data": {
      "text/html": [
       "<div>\n",
       "<style scoped>\n",
       "    .dataframe tbody tr th:only-of-type {\n",
       "        vertical-align: middle;\n",
       "    }\n",
       "\n",
       "    .dataframe tbody tr th {\n",
       "        vertical-align: top;\n",
       "    }\n",
       "\n",
       "    .dataframe thead th {\n",
       "        text-align: right;\n",
       "    }\n",
       "</style>\n",
       "<table border=\"1\" class=\"dataframe\">\n",
       "  <thead>\n",
       "    <tr style=\"text-align: right;\">\n",
       "      <th></th>\n",
       "      <th>Salary</th>\n",
       "      <th>Age</th>\n",
       "      <th>Seniorty</th>\n",
       "      <th>Extra</th>\n",
       "    </tr>\n",
       "  </thead>\n",
       "  <tbody>\n",
       "    <tr>\n",
       "      <th>Atil</th>\n",
       "      <td>0.514287</td>\n",
       "      <td>-0.251348</td>\n",
       "      <td>-0.050939</td>\n",
       "      <td>10</td>\n",
       "    </tr>\n",
       "    <tr>\n",
       "      <th>Zeynep</th>\n",
       "      <td>-0.122110</td>\n",
       "      <td>-0.830737</td>\n",
       "      <td>0.283018</td>\n",
       "      <td>10</td>\n",
       "    </tr>\n",
       "    <tr>\n",
       "      <th>Atlas</th>\n",
       "      <td>0.909092</td>\n",
       "      <td>0.349726</td>\n",
       "      <td>0.411932</td>\n",
       "      <td>10</td>\n",
       "    </tr>\n",
       "    <tr>\n",
       "      <th>Mehmet</th>\n",
       "      <td>0.734372</td>\n",
       "      <td>0.084605</td>\n",
       "      <td>1.256941</td>\n",
       "      <td>10</td>\n",
       "    </tr>\n",
       "  </tbody>\n",
       "</table>\n",
       "</div>"
      ],
      "text/plain": [
       "          Salary       Age  Seniorty  Extra\n",
       "Atil    0.514287 -0.251348 -0.050939     10\n",
       "Zeynep -0.122110 -0.830737  0.283018     10\n",
       "Atlas   0.909092  0.349726  0.411932     10\n",
       "Mehmet  0.734372  0.084605  1.256941     10"
      ]
     },
     "execution_count": 40,
     "metadata": {},
     "output_type": "execute_result"
    }
   ],
   "source": [
    "new_df"
   ]
  },
  {
   "cell_type": "code",
   "execution_count": 41,
   "id": "e7a17291",
   "metadata": {},
   "outputs": [],
   "source": [
    "new_df.drop(\"Extra\", axis=1, inplace=True)"
   ]
  },
  {
   "cell_type": "code",
   "execution_count": 42,
   "id": "1f02d1d4",
   "metadata": {},
   "outputs": [
    {
     "data": {
      "text/html": [
       "<div>\n",
       "<style scoped>\n",
       "    .dataframe tbody tr th:only-of-type {\n",
       "        vertical-align: middle;\n",
       "    }\n",
       "\n",
       "    .dataframe tbody tr th {\n",
       "        vertical-align: top;\n",
       "    }\n",
       "\n",
       "    .dataframe thead th {\n",
       "        text-align: right;\n",
       "    }\n",
       "</style>\n",
       "<table border=\"1\" class=\"dataframe\">\n",
       "  <thead>\n",
       "    <tr style=\"text-align: right;\">\n",
       "      <th></th>\n",
       "      <th>Salary</th>\n",
       "      <th>Age</th>\n",
       "      <th>Seniorty</th>\n",
       "    </tr>\n",
       "  </thead>\n",
       "  <tbody>\n",
       "    <tr>\n",
       "      <th>Atil</th>\n",
       "      <td>0.514287</td>\n",
       "      <td>-0.251348</td>\n",
       "      <td>-0.050939</td>\n",
       "    </tr>\n",
       "    <tr>\n",
       "      <th>Zeynep</th>\n",
       "      <td>-0.122110</td>\n",
       "      <td>-0.830737</td>\n",
       "      <td>0.283018</td>\n",
       "    </tr>\n",
       "    <tr>\n",
       "      <th>Atlas</th>\n",
       "      <td>0.909092</td>\n",
       "      <td>0.349726</td>\n",
       "      <td>0.411932</td>\n",
       "    </tr>\n",
       "    <tr>\n",
       "      <th>Mehmet</th>\n",
       "      <td>0.734372</td>\n",
       "      <td>0.084605</td>\n",
       "      <td>1.256941</td>\n",
       "    </tr>\n",
       "  </tbody>\n",
       "</table>\n",
       "</div>"
      ],
      "text/plain": [
       "          Salary       Age  Seniorty\n",
       "Atil    0.514287 -0.251348 -0.050939\n",
       "Zeynep -0.122110 -0.830737  0.283018\n",
       "Atlas   0.909092  0.349726  0.411932\n",
       "Mehmet  0.734372  0.084605  1.256941"
      ]
     },
     "execution_count": 42,
     "metadata": {},
     "output_type": "execute_result"
    }
   ],
   "source": [
    "new_df"
   ]
  },
  {
   "cell_type": "code",
   "execution_count": 43,
   "id": "3fc16d09",
   "metadata": {},
   "outputs": [
    {
     "data": {
      "text/html": [
       "<div>\n",
       "<style scoped>\n",
       "    .dataframe tbody tr th:only-of-type {\n",
       "        vertical-align: middle;\n",
       "    }\n",
       "\n",
       "    .dataframe tbody tr th {\n",
       "        vertical-align: top;\n",
       "    }\n",
       "\n",
       "    .dataframe thead th {\n",
       "        text-align: right;\n",
       "    }\n",
       "</style>\n",
       "<table border=\"1\" class=\"dataframe\">\n",
       "  <thead>\n",
       "    <tr style=\"text-align: right;\">\n",
       "      <th></th>\n",
       "      <th>Salary</th>\n",
       "      <th>Age</th>\n",
       "      <th>Seniorty</th>\n",
       "    </tr>\n",
       "  </thead>\n",
       "  <tbody>\n",
       "    <tr>\n",
       "      <th>Atil</th>\n",
       "      <td>False</td>\n",
       "      <td>True</td>\n",
       "      <td>True</td>\n",
       "    </tr>\n",
       "    <tr>\n",
       "      <th>Zeynep</th>\n",
       "      <td>True</td>\n",
       "      <td>True</td>\n",
       "      <td>False</td>\n",
       "    </tr>\n",
       "    <tr>\n",
       "      <th>Atlas</th>\n",
       "      <td>False</td>\n",
       "      <td>False</td>\n",
       "      <td>False</td>\n",
       "    </tr>\n",
       "    <tr>\n",
       "      <th>Mehmet</th>\n",
       "      <td>False</td>\n",
       "      <td>False</td>\n",
       "      <td>False</td>\n",
       "    </tr>\n",
       "  </tbody>\n",
       "</table>\n",
       "</div>"
      ],
      "text/plain": [
       "        Salary    Age  Seniorty\n",
       "Atil     False   True      True\n",
       "Zeynep    True   True     False\n",
       "Atlas    False  False     False\n",
       "Mehmet   False  False     False"
      ]
     },
     "execution_count": 43,
     "metadata": {},
     "output_type": "execute_result"
    }
   ],
   "source": [
    "new_df < 0"
   ]
  },
  {
   "cell_type": "code",
   "execution_count": 44,
   "id": "828a34aa",
   "metadata": {},
   "outputs": [],
   "source": [
    "boolean_frame = new_df < 0"
   ]
  },
  {
   "cell_type": "code",
   "execution_count": 45,
   "id": "ba36657a",
   "metadata": {},
   "outputs": [
    {
     "data": {
      "text/html": [
       "<div>\n",
       "<style scoped>\n",
       "    .dataframe tbody tr th:only-of-type {\n",
       "        vertical-align: middle;\n",
       "    }\n",
       "\n",
       "    .dataframe tbody tr th {\n",
       "        vertical-align: top;\n",
       "    }\n",
       "\n",
       "    .dataframe thead th {\n",
       "        text-align: right;\n",
       "    }\n",
       "</style>\n",
       "<table border=\"1\" class=\"dataframe\">\n",
       "  <thead>\n",
       "    <tr style=\"text-align: right;\">\n",
       "      <th></th>\n",
       "      <th>Salary</th>\n",
       "      <th>Age</th>\n",
       "      <th>Seniorty</th>\n",
       "    </tr>\n",
       "  </thead>\n",
       "  <tbody>\n",
       "    <tr>\n",
       "      <th>Atil</th>\n",
       "      <td>NaN</td>\n",
       "      <td>-0.251348</td>\n",
       "      <td>-0.050939</td>\n",
       "    </tr>\n",
       "    <tr>\n",
       "      <th>Zeynep</th>\n",
       "      <td>-0.12211</td>\n",
       "      <td>-0.830737</td>\n",
       "      <td>NaN</td>\n",
       "    </tr>\n",
       "    <tr>\n",
       "      <th>Atlas</th>\n",
       "      <td>NaN</td>\n",
       "      <td>NaN</td>\n",
       "      <td>NaN</td>\n",
       "    </tr>\n",
       "    <tr>\n",
       "      <th>Mehmet</th>\n",
       "      <td>NaN</td>\n",
       "      <td>NaN</td>\n",
       "      <td>NaN</td>\n",
       "    </tr>\n",
       "  </tbody>\n",
       "</table>\n",
       "</div>"
      ],
      "text/plain": [
       "         Salary       Age  Seniorty\n",
       "Atil        NaN -0.251348 -0.050939\n",
       "Zeynep -0.12211 -0.830737       NaN\n",
       "Atlas       NaN       NaN       NaN\n",
       "Mehmet      NaN       NaN       NaN"
      ]
     },
     "execution_count": 45,
     "metadata": {},
     "output_type": "execute_result"
    }
   ],
   "source": [
    "new_df[boolean_frame]"
   ]
  },
  {
   "cell_type": "code",
   "execution_count": 46,
   "id": "e2b88c69",
   "metadata": {},
   "outputs": [
    {
     "data": {
      "text/html": [
       "<div>\n",
       "<style scoped>\n",
       "    .dataframe tbody tr th:only-of-type {\n",
       "        vertical-align: middle;\n",
       "    }\n",
       "\n",
       "    .dataframe tbody tr th {\n",
       "        vertical-align: top;\n",
       "    }\n",
       "\n",
       "    .dataframe thead th {\n",
       "        text-align: right;\n",
       "    }\n",
       "</style>\n",
       "<table border=\"1\" class=\"dataframe\">\n",
       "  <thead>\n",
       "    <tr style=\"text-align: right;\">\n",
       "      <th></th>\n",
       "      <th>Salary</th>\n",
       "      <th>Age</th>\n",
       "      <th>Seniorty</th>\n",
       "    </tr>\n",
       "  </thead>\n",
       "  <tbody>\n",
       "    <tr>\n",
       "      <th>Atil</th>\n",
       "      <td>0.514287</td>\n",
       "      <td>-0.251348</td>\n",
       "      <td>-0.050939</td>\n",
       "    </tr>\n",
       "    <tr>\n",
       "      <th>Atlas</th>\n",
       "      <td>0.909092</td>\n",
       "      <td>0.349726</td>\n",
       "      <td>0.411932</td>\n",
       "    </tr>\n",
       "    <tr>\n",
       "      <th>Mehmet</th>\n",
       "      <td>0.734372</td>\n",
       "      <td>0.084605</td>\n",
       "      <td>1.256941</td>\n",
       "    </tr>\n",
       "  </tbody>\n",
       "</table>\n",
       "</div>"
      ],
      "text/plain": [
       "          Salary       Age  Seniorty\n",
       "Atil    0.514287 -0.251348 -0.050939\n",
       "Atlas   0.909092  0.349726  0.411932\n",
       "Mehmet  0.734372  0.084605  1.256941"
      ]
     },
     "execution_count": 46,
     "metadata": {},
     "output_type": "execute_result"
    }
   ],
   "source": [
    "new_df[new_df[\"Salary\"] > 0]"
   ]
  },
  {
   "cell_type": "code",
   "execution_count": 48,
   "id": "6d33e82a",
   "metadata": {},
   "outputs": [
    {
     "data": {
      "text/html": [
       "<div>\n",
       "<style scoped>\n",
       "    .dataframe tbody tr th:only-of-type {\n",
       "        vertical-align: middle;\n",
       "    }\n",
       "\n",
       "    .dataframe tbody tr th {\n",
       "        vertical-align: top;\n",
       "    }\n",
       "\n",
       "    .dataframe thead th {\n",
       "        text-align: right;\n",
       "    }\n",
       "</style>\n",
       "<table border=\"1\" class=\"dataframe\">\n",
       "  <thead>\n",
       "    <tr style=\"text-align: right;\">\n",
       "      <th></th>\n",
       "      <th>index</th>\n",
       "      <th>Salary</th>\n",
       "      <th>Age</th>\n",
       "      <th>Seniorty</th>\n",
       "    </tr>\n",
       "  </thead>\n",
       "  <tbody>\n",
       "    <tr>\n",
       "      <th>0</th>\n",
       "      <td>Atil</td>\n",
       "      <td>0.514287</td>\n",
       "      <td>-0.251348</td>\n",
       "      <td>-0.050939</td>\n",
       "    </tr>\n",
       "    <tr>\n",
       "      <th>1</th>\n",
       "      <td>Zeynep</td>\n",
       "      <td>-0.122110</td>\n",
       "      <td>-0.830737</td>\n",
       "      <td>0.283018</td>\n",
       "    </tr>\n",
       "    <tr>\n",
       "      <th>2</th>\n",
       "      <td>Atlas</td>\n",
       "      <td>0.909092</td>\n",
       "      <td>0.349726</td>\n",
       "      <td>0.411932</td>\n",
       "    </tr>\n",
       "    <tr>\n",
       "      <th>3</th>\n",
       "      <td>Mehmet</td>\n",
       "      <td>0.734372</td>\n",
       "      <td>0.084605</td>\n",
       "      <td>1.256941</td>\n",
       "    </tr>\n",
       "  </tbody>\n",
       "</table>\n",
       "</div>"
      ],
      "text/plain": [
       "    index    Salary       Age  Seniorty\n",
       "0    Atil  0.514287 -0.251348 -0.050939\n",
       "1  Zeynep -0.122110 -0.830737  0.283018\n",
       "2   Atlas  0.909092  0.349726  0.411932\n",
       "3  Mehmet  0.734372  0.084605  1.256941"
      ]
     },
     "execution_count": 48,
     "metadata": {},
     "output_type": "execute_result"
    }
   ],
   "source": [
    "reset_frame = new_df.reset_index()\n",
    "reset_frame"
   ]
  },
  {
   "cell_type": "code",
   "execution_count": 49,
   "id": "c8d63f2f",
   "metadata": {},
   "outputs": [
    {
     "data": {
      "text/plain": [
       "index           Atil\n",
       "Salary      0.514287\n",
       "Age        -0.251348\n",
       "Seniorty   -0.050939\n",
       "Name: 0, dtype: object"
      ]
     },
     "execution_count": 49,
     "metadata": {},
     "output_type": "execute_result"
    }
   ],
   "source": [
    "reset_frame.loc[0]"
   ]
  },
  {
   "cell_type": "code",
   "execution_count": 50,
   "id": "42bf5ed6",
   "metadata": {},
   "outputs": [],
   "source": [
    "new_indices = [\"Ati\", \"Zey\", \"Atl\", \"Meh\"]"
   ]
  },
  {
   "cell_type": "code",
   "execution_count": 51,
   "id": "65632965",
   "metadata": {},
   "outputs": [
    {
     "data": {
      "text/html": [
       "<div>\n",
       "<style scoped>\n",
       "    .dataframe tbody tr th:only-of-type {\n",
       "        vertical-align: middle;\n",
       "    }\n",
       "\n",
       "    .dataframe tbody tr th {\n",
       "        vertical-align: top;\n",
       "    }\n",
       "\n",
       "    .dataframe thead th {\n",
       "        text-align: right;\n",
       "    }\n",
       "</style>\n",
       "<table border=\"1\" class=\"dataframe\">\n",
       "  <thead>\n",
       "    <tr style=\"text-align: right;\">\n",
       "      <th></th>\n",
       "      <th>Salary</th>\n",
       "      <th>Age</th>\n",
       "      <th>Seniorty</th>\n",
       "      <th>NewIndex</th>\n",
       "    </tr>\n",
       "  </thead>\n",
       "  <tbody>\n",
       "    <tr>\n",
       "      <th>Atil</th>\n",
       "      <td>0.514287</td>\n",
       "      <td>-0.251348</td>\n",
       "      <td>-0.050939</td>\n",
       "      <td>Ati</td>\n",
       "    </tr>\n",
       "    <tr>\n",
       "      <th>Zeynep</th>\n",
       "      <td>-0.122110</td>\n",
       "      <td>-0.830737</td>\n",
       "      <td>0.283018</td>\n",
       "      <td>Zey</td>\n",
       "    </tr>\n",
       "    <tr>\n",
       "      <th>Atlas</th>\n",
       "      <td>0.909092</td>\n",
       "      <td>0.349726</td>\n",
       "      <td>0.411932</td>\n",
       "      <td>Atl</td>\n",
       "    </tr>\n",
       "    <tr>\n",
       "      <th>Mehmet</th>\n",
       "      <td>0.734372</td>\n",
       "      <td>0.084605</td>\n",
       "      <td>1.256941</td>\n",
       "      <td>Meh</td>\n",
       "    </tr>\n",
       "  </tbody>\n",
       "</table>\n",
       "</div>"
      ],
      "text/plain": [
       "          Salary       Age  Seniorty NewIndex\n",
       "Atil    0.514287 -0.251348 -0.050939      Ati\n",
       "Zeynep -0.122110 -0.830737  0.283018      Zey\n",
       "Atlas   0.909092  0.349726  0.411932      Atl\n",
       "Mehmet  0.734372  0.084605  1.256941      Meh"
      ]
     },
     "execution_count": 51,
     "metadata": {},
     "output_type": "execute_result"
    }
   ],
   "source": [
    "new_df[\"NewIndex\"] = new_indices\n",
    "new_df"
   ]
  },
  {
   "cell_type": "code",
   "execution_count": 53,
   "id": "244b883f",
   "metadata": {},
   "outputs": [
    {
     "data": {
      "text/html": [
       "<div>\n",
       "<style scoped>\n",
       "    .dataframe tbody tr th:only-of-type {\n",
       "        vertical-align: middle;\n",
       "    }\n",
       "\n",
       "    .dataframe tbody tr th {\n",
       "        vertical-align: top;\n",
       "    }\n",
       "\n",
       "    .dataframe thead th {\n",
       "        text-align: right;\n",
       "    }\n",
       "</style>\n",
       "<table border=\"1\" class=\"dataframe\">\n",
       "  <thead>\n",
       "    <tr style=\"text-align: right;\">\n",
       "      <th></th>\n",
       "      <th>Salary</th>\n",
       "      <th>Age</th>\n",
       "      <th>Seniorty</th>\n",
       "    </tr>\n",
       "    <tr>\n",
       "      <th>NewIndex</th>\n",
       "      <th></th>\n",
       "      <th></th>\n",
       "      <th></th>\n",
       "    </tr>\n",
       "  </thead>\n",
       "  <tbody>\n",
       "    <tr>\n",
       "      <th>Ati</th>\n",
       "      <td>0.514287</td>\n",
       "      <td>-0.251348</td>\n",
       "      <td>-0.050939</td>\n",
       "    </tr>\n",
       "    <tr>\n",
       "      <th>Zey</th>\n",
       "      <td>-0.122110</td>\n",
       "      <td>-0.830737</td>\n",
       "      <td>0.283018</td>\n",
       "    </tr>\n",
       "    <tr>\n",
       "      <th>Atl</th>\n",
       "      <td>0.909092</td>\n",
       "      <td>0.349726</td>\n",
       "      <td>0.411932</td>\n",
       "    </tr>\n",
       "    <tr>\n",
       "      <th>Meh</th>\n",
       "      <td>0.734372</td>\n",
       "      <td>0.084605</td>\n",
       "      <td>1.256941</td>\n",
       "    </tr>\n",
       "  </tbody>\n",
       "</table>\n",
       "</div>"
      ],
      "text/plain": [
       "            Salary       Age  Seniorty\n",
       "NewIndex                              \n",
       "Ati       0.514287 -0.251348 -0.050939\n",
       "Zey      -0.122110 -0.830737  0.283018\n",
       "Atl       0.909092  0.349726  0.411932\n",
       "Meh       0.734372  0.084605  1.256941"
      ]
     },
     "execution_count": 53,
     "metadata": {},
     "output_type": "execute_result"
    }
   ],
   "source": [
    "new_df.set_index(\"NewIndex\", inplace=True)\n",
    "new_df"
   ]
  },
  {
   "cell_type": "code",
   "execution_count": 54,
   "id": "0d0af9a3",
   "metadata": {},
   "outputs": [],
   "source": [
    "# multi index"
   ]
  },
  {
   "cell_type": "code",
   "execution_count": 61,
   "id": "ed6683dd",
   "metadata": {},
   "outputs": [],
   "source": [
    "first_index = [\"Simpson\", \"Simpson\", \"Simpson\", \"South Park\", \"South Park\", \"South Park\"]\n",
    "inner_index = [\"Homer\", \"Bart\", \"Marge\", \"Cartman\", \"Kenny\", \"Kyle\"]"
   ]
  },
  {
   "cell_type": "code",
   "execution_count": 62,
   "id": "913a0d02",
   "metadata": {},
   "outputs": [],
   "source": [
    "zipped_index = list(zip(first_index, inner_index))"
   ]
  },
  {
   "cell_type": "code",
   "execution_count": 63,
   "id": "15cbff35",
   "metadata": {},
   "outputs": [
    {
     "data": {
      "text/plain": [
       "MultiIndex([(   'Simpson',   'Homer'),\n",
       "            (   'Simpson',    'Bart'),\n",
       "            (   'Simpson',   'Marge'),\n",
       "            ('South Park', 'Cartman'),\n",
       "            ('South Park',   'Kenny'),\n",
       "            ('South Park',    'Kyle')],\n",
       "           )"
      ]
     },
     "execution_count": 63,
     "metadata": {},
     "output_type": "execute_result"
    }
   ],
   "source": [
    "zipped_index = pd.MultiIndex.from_tuples(zipped_index)\n",
    "zipped_index"
   ]
  },
  {
   "cell_type": "code",
   "execution_count": 64,
   "id": "2fa5afaa",
   "metadata": {},
   "outputs": [],
   "source": [
    "sample_values = np.ones((6,2))"
   ]
  },
  {
   "cell_type": "code",
   "execution_count": 65,
   "id": "b017f88d",
   "metadata": {},
   "outputs": [],
   "source": [
    "big_df = pd.DataFrame(sample_values, index=zipped_index, columns=[\"Age\", \"Salary\"])"
   ]
  },
  {
   "cell_type": "code",
   "execution_count": 66,
   "id": "801152eb",
   "metadata": {},
   "outputs": [
    {
     "data": {
      "text/plain": [
       "Simpson     Homer      1.0\n",
       "            Bart       1.0\n",
       "            Marge      1.0\n",
       "South Park  Cartman    1.0\n",
       "            Kenny      1.0\n",
       "            Kyle       1.0\n",
       "Name: Age, dtype: float64"
      ]
     },
     "execution_count": 66,
     "metadata": {},
     "output_type": "execute_result"
    }
   ],
   "source": [
    "big_df[\"Age\"]"
   ]
  },
  {
   "cell_type": "code",
   "execution_count": 67,
   "id": "138051e9",
   "metadata": {},
   "outputs": [
    {
     "data": {
      "text/plain": [
       "Age       1.0\n",
       "Salary    1.0\n",
       "Name: Homer, dtype: float64"
      ]
     },
     "execution_count": 67,
     "metadata": {},
     "output_type": "execute_result"
    }
   ],
   "source": [
    "big_df.loc[\"Simpson\"].loc[\"Homer\"]"
   ]
  }
 ],
 "metadata": {
  "kernelspec": {
   "display_name": "base",
   "language": "python",
   "name": "python3"
  },
  "language_info": {
   "codemirror_mode": {
    "name": "ipython",
    "version": 3
   },
   "file_extension": ".py",
   "mimetype": "text/x-python",
   "name": "python",
   "nbconvert_exporter": "python",
   "pygments_lexer": "ipython3",
   "version": "3.13.5"
  }
 },
 "nbformat": 4,
 "nbformat_minor": 5
}
